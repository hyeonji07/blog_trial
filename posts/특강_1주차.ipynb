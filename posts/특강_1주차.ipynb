{
  "cells": [
    {
      "cell_type": "raw",
      "metadata": {
        "id": "cgO6j_W1Y1sF"
      },
      "source": [
        "---\n",
        "title: \"1일차 과제\"\n",
        "author: \"전현지\"\n",
        "date: \"01/02/2024\"\n",
        "categories:\n",
        "  - Data_ToolBox\n",
        "---"
      ]
    },
    {
      "cell_type": "markdown",
      "metadata": {
        "id": "XS8U8AWj9shb"
      },
      "source": [
        "# 0. Intro"
      ]
    },
    {
      "cell_type": "markdown",
      "metadata": {
        "id": "ifXHf_X1qd_d"
      },
      "source": [
        "## 컴퓨터?\n",
        "- 컴퓨터는 **폴더**임."
      ]
    },
    {
      "cell_type": "markdown",
      "metadata": {
        "id": "5OkT0TlgwKfx"
      },
      "source": [
        "## 가상환경이란?"
      ]
    },
    {
      "cell_type": "markdown",
      "metadata": {
        "id": "vR38uZND99XE"
      },
      "source": [
        "\n",
        "- 가상의 컴퓨터(꼭 필요한 폴더 집합)를 만드는 것임.\n",
        "- like 사용자 계정 추가\n",
        "- 각각의 가상환경 & 컴퓨터는 독립적임"
      ]
    },
    {
      "cell_type": "markdown",
      "metadata": {
        "id": "1cwP0cf3wTjM"
      },
      "source": [
        "## 아나콘다?"
      ]
    },
    {
      "cell_type": "markdown",
      "metadata": {
        "id": "5NcdTlOg_SGI"
      },
      "source": [
        "- 가상 환경을 만들어주는 프로그램.\n",
        "- 본인이 원하는 환경 만들고 싶음 만들 수 있음.(ex : conda create --name <가상환경이름> python=3.8)  "
      ]
    },
    {
      "cell_type": "markdown",
      "metadata": {
        "id": "G_C6IdTFqlzC"
      },
      "source": [
        "`-` **[정리]**  \n",
        "- 컴퓨터 == 폴더 집합  \n",
        "- 가상환경 == 가상의 컴퓨터 == 폴더  \n",
        "- 아나콘다는 가상환경을 만들어주는 프로그램  \n"
      ]
    },
    {
      "cell_type": "markdown",
      "metadata": {
        "id": "xX6BgOz7H2Dh"
      },
      "source": [
        "`-` 그럼 가상환경 어디에 설치되어 있는데?  \n",
        "- anaconda3 > envs  \n",
        "- 가상환경 폴더를 삭제 or 다른 경로로 이동하면? -> 가상환경 사라지는거임 ㅇㅇ\n"
      ]
    },
    {
      "cell_type": "markdown",
      "metadata": {
        "id": "Xxwe5ZlFGYmc"
      },
      "source": [
        "# 1. 가상환경"
      ]
    },
    {
      "cell_type": "markdown",
      "metadata": {
        "id": "gMtsCM-OGZ5L"
      },
      "source": [
        "`-` 그래서 왜 가상환경을 써야하는가?\n",
        "- **패키지 충돌을 피하기 위함.**"
      ]
    },
    {
      "cell_type": "markdown",
      "metadata": {
        "id": "_KwlhWmrtPTp"
      },
      "source": [
        "`-` 패키지 충돌은 왜 발생하는데?  \n",
        "- 오픈소스 -> 누구나 본인이 만든 패키지 배포 가능  \n",
        "- 누군가가 배포한 A라는 패키지를 기반으로한 새로운 패키지(B) 만들 수 있음.  \n",
        "- 근데 A 패키지 버전이 업데이트되면서 기존에 있었던 함수가 사라지거나 달라진다면?  \n",
        "- 패키지 B가 작동하지 않을 수 있음 (이러한 의존 관계가 물리고 물려있다면? 대환장파티 ㅇㅇ)  \n",
        "=> 이것이 패키지 충돌임 ㅇㅅㅇ"
      ]
    },
    {
      "cell_type": "markdown",
      "metadata": {
        "id": "I2rANf_8uHCV"
      },
      "source": [
        "`-` 그럼 어떻게 충돌을 피할 수 있는데?  \n",
        "- 충돌이 안나는 패키지 버전 조합을 찾아주면됨."
      ]
    },
    {
      "cell_type": "markdown",
      "metadata": {
        "id": "DbVS3ye1vCv0"
      },
      "source": [
        "`-` 그 조합 정보를 어디서 찾는데?  \n",
        "- 아나콘다에서는 **채널** 이라고 부름 (채널에 패키지 버전 조합들이 잘 정리되어 있음.)  \n",
        "  - conda forge  \n",
        "  - r  \n",
        "  - pytorch 등이 있음.  \n",
        "- 채널에 있는 정보를 사용해, 패키지B 충돌 안나게 설치하기  \n",
        "예시 : conda install -c python B  \n",
        "- 별로인 채널도 있으니, 보장된 채널 사용 추천함"
      ]
    },
    {
      "cell_type": "markdown",
      "metadata": {
        "id": "U-btmY_wrrjn"
      },
      "source": [
        "`-` 무튼 정리하자면  \n",
        "- base에 패키지 여러개 깔았는데, 충돌 발생 & 돌이킬 수 없는 강을 건넜다?   \n",
        "-> 아나콘다 자체를 삭제하고 재설치 해야할 수도 있음.(그럼 패키지 설치 A to Z 다시해야 함.)  \n",
        "- but, 가상환경을 사용했다면?  \n",
        "문제가 되는 가상환경만 삭제해주면, 다른건 괜찮은 거임.    \n",
        "ex) 님이 만약 base에 A, B, numpy, pytorch, yolo 패키지를 깔았어 근데 패키지 충돌이 발생했다?  \n",
        " -> 싹 날리고 재설치 해야할 수 있음  \n",
        "but, 가상환경으로 패키지 분리해서 설치되어있다?   \n",
        "-> 그럼 문제되는 패키지가 있는 가상환경만 삭제해주면 됨."
      ]
    },
    {
      "cell_type": "markdown",
      "metadata": {
        "id": "thPw56qevTC6"
      },
      "source": [
        "# 2. 파이썬 개발환경"
      ]
    },
    {
      "cell_type": "markdown",
      "metadata": {
        "id": "DdHoTJD5IirX"
      },
      "source": [
        "`-` 파이썬 개발환경 구축방법이 많은 이유?  \n",
        "- 1. 노트북 vs 노트북 가상환경 vs 원격 vs 클라우드  \n",
        "- 2. ipython, python, anaconda(파이썬 자동설치), 클라우드  \n",
        "- 3. IDE 종류 다양 (주피터, 스파이더, 파이참, atom, vscode 등)"
      ]
    },
    {
      "cell_type": "markdown",
      "metadata": {
        "id": "AL-rIH_wJcMt"
      },
      "source": [
        "`-` **[목적]**  \n",
        "\n",
        "무튼 이렇게 다양한데, 이를 관통하는 원리를 살펴보자!"
      ]
    },
    {
      "cell_type": "markdown",
      "metadata": {
        "id": "oX32D2P2KYRR"
      },
      "source": [
        "## Python 개발환경 발전 과정\n",
        "- 이해를 위해 임의로 5세대로 구분함"
      ]
    },
    {
      "cell_type": "markdown",
      "metadata": {
        "id": "rDITzGqiJk_u"
      },
      "source": [
        "### 1세대\n",
        "- python, ipython"
      ]
    },
    {
      "cell_type": "markdown",
      "metadata": {
        "id": "gzOGT65rKm7A"
      },
      "source": [
        "#### python\n",
        "- if 아나콘다 설치한 경우 -> anaconda prompt 실행 > python 입력 > prompt 창에서 파이썬 실행 가능한\n",
        "- elif 노트북에 파이썬 설치한 경우 -> 명령prompt 실행 > python 입력 > python 실행 가능한"
      ]
    },
    {
      "cell_type": "markdown",
      "metadata": {
        "id": "8UPytsIjMCUh"
      },
      "source": [
        "`-` 2개의 prompt를 사용해 파이썬 코드를 실행할 수 있음. but, 각각의 prompt는 **독립**적   \n",
        "-> so, **변수 공유 can't**  "
      ]
    },
    {
      "cell_type": "markdown",
      "metadata": {
        "id": "RU7mUEqQMogu"
      },
      "source": [
        "`-` ?sort와 같은 도움말 기능 x, 구문 강조 기능 x, 자동 들여쓰기x"
      ]
    },
    {
      "cell_type": "markdown",
      "metadata": {
        "id": "CTlb7wLKMrYd"
      },
      "source": [
        "`-` 한 번 실행 or 줄 바꿈 했을 경우, 틀린 부분이 있다면 그냥 망한거임.\n",
        "처음부터 끝까지 코드 다시 쳐야 함...   \n",
        "\n"
      ]
    },
    {
      "cell_type": "markdown",
      "metadata": {
        "id": "p0Xd-GKNoWtK"
      },
      "source": [
        "#### ipython"
      ]
    },
    {
      "cell_type": "markdown",
      "metadata": {
        "id": "M8UfVfqpoecU"
      },
      "source": [
        "*얘는 그냥 python깔면 깔리는건 아닌것 같음.*"
      ]
    },
    {
      "cell_type": "markdown",
      "metadata": {
        "id": "GGEfJZbpom6B"
      },
      "source": [
        "`-` 자동 들여쓰기 o, 구문강조 0 , 도움말 o, 줄바꿈 했어도 방향키 조절로 틀린 부분 수정 가능"
      ]
    },
    {
      "cell_type": "markdown",
      "metadata": {
        "id": "aR3kUAMFp-E3"
      },
      "source": [
        "`-` but, prompt 한번 끄면 이전 코드 다 없어짐.\n",
        "-> 코드 관리가 어려움."
      ]
    },
    {
      "cell_type": "markdown",
      "metadata": {
        "id": "bAzqL7sjqRbW"
      },
      "source": [
        "### 2세대\n",
        "- 메모장 + anaconda prompt 이용(.py를 이용한 python 활용)\n",
        "- focus : 마우스를 이용한 코드 편집 가능, 코드 관리 용이성(저장되어 있으면 좋겠음)"
      ]
    },
    {
      "cell_type": "markdown",
      "metadata": {
        "id": "MbD6BFfCqi40"
      },
      "source": [
        "`-` 역할   \n",
        "- 메모장 == 코드 편집 & 저장\n",
        "- prompt == 계산기"
      ]
    },
    {
      "cell_type": "markdown",
      "metadata": {
        "id": "UbaRAMwht9NS"
      },
      "source": [
        "`-` 실행방법  \n",
        "- 메모장 확장자를 .py로 변경  \n",
        "- prompt에서 해당 메모장이 저장된 경로로 이동  \n",
        "- 실행 : python 메모장이름.py"
      ]
    },
    {
      "cell_type": "markdown",
      "metadata": {
        "id": "gw8dNGiZue3S"
      },
      "source": [
        "`-` **[정리]**  \n",
        "- 마우스로 코드 편집 가능 & 메모장(코드 편집기)가 저장되어 있음 == 코드가 저장되어 있음  \n",
        "- but, 단점 == 구문강조 x, 도움말 x"
      ]
    },
    {
      "cell_type": "markdown",
      "metadata": {
        "id": "J9hJ7801u1hV"
      },
      "source": [
        "### 3세대\n",
        "- 메모장 + ipython\n",
        "- !python 메모장 이름.py\n",
        "- %run 메모장 이름"
      ]
    },
    {
      "cell_type": "markdown",
      "metadata": {
        "id": "t9kWBTe7Daff"
      },
      "source": [
        "`-` 메모장(코드 편집 & 저장) 사용하는건 동일\n"
      ]
    },
    {
      "cell_type": "markdown",
      "metadata": {
        "id": "6N3sUOTxDiOb"
      },
      "source": [
        "`-` but,  ipython 사용  \n",
        "- anaconda prompt처럼 코드 실행 및 결과 확인 기능 있어야함.  \n",
        "- ipython 장점은 have -> 구문강조 o , 도움말 o"
      ]
    },
    {
      "cell_type": "markdown",
      "metadata": {
        "id": "AivgzTUiNl5A"
      },
      "source": [
        "`-` 어떻게 하냐?  \n",
        "- ipython 실행  \n",
        "- !python 메모장이름.py"
      ]
    },
    {
      "cell_type": "markdown",
      "metadata": {
        "id": "P9ePxrcANspN"
      },
      "source": [
        "`-` 이게 어떻게 가능하냐?  \n",
        "- !(느낌표)의 기능 주목  \n",
        "- !python 메모장이름.py  \n",
        "- 원래 ipython 환경이었지만, 해당 내용을 새로운 prompt(ipython X)에서 해당 코드 내용을 실행하고 결괏값을 현재 anaconda 창에 띄워주는거임  \n",
        "- so, 변수는 공유되지 않음 (각각의 prompt는 독립적 <1세대 설명 참고>)"
      ]
    },
    {
      "cell_type": "markdown",
      "metadata": {
        "id": "hhAuAu3vOl5S"
      },
      "source": [
        "`-` 변수 공유 필요하다?  \n",
        "- %run 메모장 이름 입력  \n",
        "- 얘는 메모장의 내용을, 현재 prompt 에 복붙하고, 결과만 출력하는 것과 같은 효과임"
      ]
    },
    {
      "cell_type": "markdown",
      "metadata": {
        "id": "n7bL4RALOyHE"
      },
      "source": [
        "### 4세대\n",
        "- IDE(통합개발환경) == 메모장 + ipython  한방에~"
      ]
    },
    {
      "cell_type": "markdown",
      "metadata": {
        "id": "u4JDHPwMO9wp"
      },
      "source": [
        "`-` 주피터로 예를 들어 설명 (모든 IDE 같은 논리임)  \n",
        "- 주피터는 그냥 입출력을 깔끔하게 보여주는 인터페이스임.  \n",
        "- 계산은 ipython이 다함.  \n",
        "- cell 하나가 하나의 메모장임.  \n",
        "- cell의 내용을 ipython이 계산 & 결괏값 출력\n",
        "- 주피터가 그 결괏값을 복사 해와서 user한테 보여줌.  \n",
        "=> prompt는 하나니깐, 변수 공유 가능한. 메모장만 여러개인 거임."
      ]
    },
    {
      "cell_type": "markdown",
      "metadata": {
        "id": "7wlmZdDeQWRY"
      },
      "source": [
        "`-` 커널 재시작  \n",
        "- prompt를 끄고 새창을 키는것과 같음"
      ]
    },
    {
      "cell_type": "markdown",
      "metadata": {
        "id": "ECu0ouRsRI-E"
      },
      "source": [
        "`-` 커널 정지?(무튼 네모 누르기)  \n",
        "- prompt에서 ctrl + c 누르는 효과와 같음"
      ]
    },
    {
      "cell_type": "markdown",
      "metadata": {
        "id": "ly1gGyXDRPeq"
      },
      "source": [
        "`-` **[정리]**  \n",
        "- IDE는 그냥 복붙해주는 인터페이스임, 연산 기능 x  \n",
        "- 실제 연산은 python, or R이 다 함  \n",
        "- 때문에, IDE만 설치한다고 해서 연산을 수행할 수 x, 무조건 R이나 python을 먼저 설치하고 IDE를 실행할 수 있음  \n",
        "- 하나의 IDE가 여러 언어와 연결될 수 있음  "
      ]
    },
    {
      "cell_type": "markdown",
      "metadata": {
        "id": "QzCt4T3PRtMq"
      },
      "source": [
        "### 5세대 : 가상컴퓨터(anaconda), 원격 컴퓨터(server), 클라우드 컴퓨터(colab)"
      ]
    },
    {
      "cell_type": "markdown",
      "metadata": {
        "id": "p2wJtuQpSDXW"
      },
      "source": [
        "#### 가상컴퓨터"
      ]
    },
    {
      "cell_type": "markdown",
      "metadata": {
        "id": "px3DG28TSFnA"
      },
      "source": [
        "`-` 위 1.가상환경에서 정리한 내용과 같음"
      ]
    },
    {
      "cell_type": "markdown",
      "metadata": {
        "id": "8KLCu2yKSMxk"
      },
      "source": [
        "#### 원격 컴퓨터\n",
        "- ipython이 실행되는 컴퓨터와 크롬이 실행되는 컴퓨터가 동일하지 않아도 인터넷에만 연결되어 있으면 작동"
      ]
    },
    {
      "cell_type": "markdown",
      "metadata": {
        "id": "gtpDBu4wSUPm"
      },
      "source": [
        "`-` 방법1 : just 원격 컴퓨터  \n",
        "- 좋은 성능을 가진 컴퓨터를 여러명이 공유해서 사용하는 것.  \n",
        "- 메모장 == 내 노트북 IDE  \n",
        "- 실제 python or R이 실행되는 곳 == 원격 컴퓨터 prompt  \n",
        "- 이제까지의 IDE 환경에서의 코드 작동 매커니즘과 같지만, python이 어디서 실행되는지만 다름  \n",
        "- 논리적 분리가 안되어있기 때문에, 누군가 돌이킬 수 없는 강을 건너면 서버를 공유하고 있는 모든 사람이 서버를 사용하지 못하게 될 수 있음"
      ]
    },
    {
      "cell_type": "markdown",
      "metadata": {
        "id": "bWUE9o5rTG0s"
      },
      "source": [
        "`-` 방법 2 :  원격컴퓨터 + 가상환경  \n",
        "- 서버를 논리적으로 나누기 (가상환경과 같음)  \n",
        "- 코드를 실현하는 매커니즘은 방법1과 같음   \n",
        "- but, 가상환경과 같이 분리가 되어있기 때문에 문제가 발생했을 경우, 다른 user에게 영향 x just 해당하는 환경만 삭제해주면됨."
      ]
    },
    {
      "cell_type": "markdown",
      "metadata": {
        "id": "i1hjPQiLTc3f"
      },
      "source": [
        "#### 클라우드 컴퓨터"
      ]
    },
    {
      "cell_type": "markdown",
      "metadata": {
        "id": "wlAC_7JETnER"
      },
      "source": [
        "`-` 클라우드 컴퓨터가 뭔데?  \n",
        "- 성능이 그저그런 컴퓨터 여러개를 모아서, user에게 할당  \n",
        "- ex) m개의 컴퓨터를 n명의 user에게 할당 -> 1인당 m/n 대 할당"
      ]
    },
    {
      "cell_type": "markdown",
      "metadata": {},
      "source": []
    }
  ],
  "metadata": {
    "colab": {
      "provenance": []
    },
    "kernelspec": {
      "display_name": "Python 3",
      "name": "python3"
    },
    "language_info": {
      "name": "python"
    }
  },
  "nbformat": 4,
  "nbformat_minor": 0
}
